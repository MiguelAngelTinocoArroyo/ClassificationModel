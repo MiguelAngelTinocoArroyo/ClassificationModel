{
  "cells": [
    {
      "cell_type": "markdown",
      "id": "Gk5022B0g01F",
      "metadata": {
        "id": "Gk5022B0g01F"
      },
      "source": [
        "**PROYECTO XG-BOOST**"
      ]
    },
    {
      "cell_type": "markdown",
      "id": "hw3rq99ei2Zr",
      "metadata": {
        "id": "hw3rq99ei2Zr"
      },
      "source": [
        "**In-vehicle coupon recommendation Data Set**"
      ]
    },
    {
      "cell_type": "markdown",
      "id": "d8fscNHmg0Ug",
      "metadata": {
        "id": "d8fscNHmg0Ug"
      },
      "source": [
        "**CONJUNTO DE DATOS:**"
      ]
    },
    {
      "cell_type": "markdown",
      "id": "Sb2f9a-ViU2e",
      "metadata": {
        "id": "Sb2f9a-ViU2e"
      },
      "source": [
        "https://archive.ics.uci.edu/ml/datasets/in-vehicle+coupon+recommendation"
      ]
    },
    {
      "cell_type": "code",
      "execution_count": 3,
      "id": "dafb39dd",
      "metadata": {
        "id": "dafb39dd"
      },
      "outputs": [],
      "source": [
        "import numpy as np \n",
        "import pandas as pd\n",
        "import matplotlib.pyplot as plt\n",
        "import seaborn as sns\n",
        "import warnings\n",
        "warnings.filterwarnings(\"ignore\")"
      ]
    },
    {
      "cell_type": "code",
      "execution_count": 4,
      "id": "M7Q3o_FOKBPl",
      "metadata": {
        "id": "M7Q3o_FOKBPl"
      },
      "outputs": [],
      "source": [
        "df = pd.read_csv('../Data/in-vehicle-coupon-recommendation.csv') "
      ]
    },
    {
      "cell_type": "code",
      "execution_count": 5,
      "id": "4cae483a",
      "metadata": {
        "colab": {
          "base_uri": "https://localhost:8080/",
          "height": 386
        },
        "id": "4cae483a",
        "outputId": "4002ab8a-4880-4742-dcee-f489f6f3a247"
      },
      "outputs": [
        {
          "data": {
            "text/html": [
              "<div>\n",
              "<style scoped>\n",
              "    .dataframe tbody tr th:only-of-type {\n",
              "        vertical-align: middle;\n",
              "    }\n",
              "\n",
              "    .dataframe tbody tr th {\n",
              "        vertical-align: top;\n",
              "    }\n",
              "\n",
              "    .dataframe thead th {\n",
              "        text-align: right;\n",
              "    }\n",
              "</style>\n",
              "<table border=\"1\" class=\"dataframe\">\n",
              "  <thead>\n",
              "    <tr style=\"text-align: right;\">\n",
              "      <th></th>\n",
              "      <th>destination</th>\n",
              "      <th>passanger</th>\n",
              "      <th>weather</th>\n",
              "      <th>temperature</th>\n",
              "      <th>time</th>\n",
              "      <th>coupon</th>\n",
              "      <th>expiration</th>\n",
              "      <th>gender</th>\n",
              "      <th>age</th>\n",
              "      <th>maritalStatus</th>\n",
              "      <th>...</th>\n",
              "      <th>CoffeeHouse</th>\n",
              "      <th>CarryAway</th>\n",
              "      <th>RestaurantLessThan20</th>\n",
              "      <th>Restaurant20To50</th>\n",
              "      <th>toCoupon_GEQ5min</th>\n",
              "      <th>toCoupon_GEQ15min</th>\n",
              "      <th>toCoupon_GEQ25min</th>\n",
              "      <th>direction_same</th>\n",
              "      <th>direction_opp</th>\n",
              "      <th>Y</th>\n",
              "    </tr>\n",
              "  </thead>\n",
              "  <tbody>\n",
              "    <tr>\n",
              "      <th>0</th>\n",
              "      <td>No Urgent Place</td>\n",
              "      <td>Alone</td>\n",
              "      <td>Sunny</td>\n",
              "      <td>55</td>\n",
              "      <td>2PM</td>\n",
              "      <td>Restaurant(&lt;20)</td>\n",
              "      <td>1d</td>\n",
              "      <td>Female</td>\n",
              "      <td>21</td>\n",
              "      <td>Unmarried partner</td>\n",
              "      <td>...</td>\n",
              "      <td>never</td>\n",
              "      <td>NaN</td>\n",
              "      <td>4~8</td>\n",
              "      <td>1~3</td>\n",
              "      <td>1</td>\n",
              "      <td>0</td>\n",
              "      <td>0</td>\n",
              "      <td>0</td>\n",
              "      <td>1</td>\n",
              "      <td>1</td>\n",
              "    </tr>\n",
              "    <tr>\n",
              "      <th>1</th>\n",
              "      <td>No Urgent Place</td>\n",
              "      <td>Friend(s)</td>\n",
              "      <td>Sunny</td>\n",
              "      <td>80</td>\n",
              "      <td>10AM</td>\n",
              "      <td>Coffee House</td>\n",
              "      <td>2h</td>\n",
              "      <td>Female</td>\n",
              "      <td>21</td>\n",
              "      <td>Unmarried partner</td>\n",
              "      <td>...</td>\n",
              "      <td>never</td>\n",
              "      <td>NaN</td>\n",
              "      <td>4~8</td>\n",
              "      <td>1~3</td>\n",
              "      <td>1</td>\n",
              "      <td>0</td>\n",
              "      <td>0</td>\n",
              "      <td>0</td>\n",
              "      <td>1</td>\n",
              "      <td>0</td>\n",
              "    </tr>\n",
              "    <tr>\n",
              "      <th>2</th>\n",
              "      <td>No Urgent Place</td>\n",
              "      <td>Friend(s)</td>\n",
              "      <td>Sunny</td>\n",
              "      <td>80</td>\n",
              "      <td>10AM</td>\n",
              "      <td>Carry out &amp; Take away</td>\n",
              "      <td>2h</td>\n",
              "      <td>Female</td>\n",
              "      <td>21</td>\n",
              "      <td>Unmarried partner</td>\n",
              "      <td>...</td>\n",
              "      <td>never</td>\n",
              "      <td>NaN</td>\n",
              "      <td>4~8</td>\n",
              "      <td>1~3</td>\n",
              "      <td>1</td>\n",
              "      <td>1</td>\n",
              "      <td>0</td>\n",
              "      <td>0</td>\n",
              "      <td>1</td>\n",
              "      <td>1</td>\n",
              "    </tr>\n",
              "    <tr>\n",
              "      <th>3</th>\n",
              "      <td>No Urgent Place</td>\n",
              "      <td>Friend(s)</td>\n",
              "      <td>Sunny</td>\n",
              "      <td>80</td>\n",
              "      <td>2PM</td>\n",
              "      <td>Coffee House</td>\n",
              "      <td>2h</td>\n",
              "      <td>Female</td>\n",
              "      <td>21</td>\n",
              "      <td>Unmarried partner</td>\n",
              "      <td>...</td>\n",
              "      <td>never</td>\n",
              "      <td>NaN</td>\n",
              "      <td>4~8</td>\n",
              "      <td>1~3</td>\n",
              "      <td>1</td>\n",
              "      <td>1</td>\n",
              "      <td>0</td>\n",
              "      <td>0</td>\n",
              "      <td>1</td>\n",
              "      <td>0</td>\n",
              "    </tr>\n",
              "    <tr>\n",
              "      <th>4</th>\n",
              "      <td>No Urgent Place</td>\n",
              "      <td>Friend(s)</td>\n",
              "      <td>Sunny</td>\n",
              "      <td>80</td>\n",
              "      <td>2PM</td>\n",
              "      <td>Coffee House</td>\n",
              "      <td>1d</td>\n",
              "      <td>Female</td>\n",
              "      <td>21</td>\n",
              "      <td>Unmarried partner</td>\n",
              "      <td>...</td>\n",
              "      <td>never</td>\n",
              "      <td>NaN</td>\n",
              "      <td>4~8</td>\n",
              "      <td>1~3</td>\n",
              "      <td>1</td>\n",
              "      <td>1</td>\n",
              "      <td>0</td>\n",
              "      <td>0</td>\n",
              "      <td>1</td>\n",
              "      <td>0</td>\n",
              "    </tr>\n",
              "  </tbody>\n",
              "</table>\n",
              "<p>5 rows × 26 columns</p>\n",
              "</div>"
            ],
            "text/plain": [
              "       destination  passanger weather  temperature  time  \\\n",
              "0  No Urgent Place      Alone   Sunny           55   2PM   \n",
              "1  No Urgent Place  Friend(s)   Sunny           80  10AM   \n",
              "2  No Urgent Place  Friend(s)   Sunny           80  10AM   \n",
              "3  No Urgent Place  Friend(s)   Sunny           80   2PM   \n",
              "4  No Urgent Place  Friend(s)   Sunny           80   2PM   \n",
              "\n",
              "                  coupon expiration  gender age      maritalStatus  ...  \\\n",
              "0        Restaurant(<20)         1d  Female  21  Unmarried partner  ...   \n",
              "1           Coffee House         2h  Female  21  Unmarried partner  ...   \n",
              "2  Carry out & Take away         2h  Female  21  Unmarried partner  ...   \n",
              "3           Coffee House         2h  Female  21  Unmarried partner  ...   \n",
              "4           Coffee House         1d  Female  21  Unmarried partner  ...   \n",
              "\n",
              "   CoffeeHouse CarryAway RestaurantLessThan20 Restaurant20To50  \\\n",
              "0        never       NaN                  4~8              1~3   \n",
              "1        never       NaN                  4~8              1~3   \n",
              "2        never       NaN                  4~8              1~3   \n",
              "3        never       NaN                  4~8              1~3   \n",
              "4        never       NaN                  4~8              1~3   \n",
              "\n",
              "  toCoupon_GEQ5min toCoupon_GEQ15min toCoupon_GEQ25min direction_same  \\\n",
              "0                1                 0                 0              0   \n",
              "1                1                 0                 0              0   \n",
              "2                1                 1                 0              0   \n",
              "3                1                 1                 0              0   \n",
              "4                1                 1                 0              0   \n",
              "\n",
              "  direction_opp  Y  \n",
              "0             1  1  \n",
              "1             1  0  \n",
              "2             1  1  \n",
              "3             1  0  \n",
              "4             1  0  \n",
              "\n",
              "[5 rows x 26 columns]"
            ]
          },
          "execution_count": 5,
          "metadata": {},
          "output_type": "execute_result"
        }
      ],
      "source": [
        "df.head()"
      ]
    },
    {
      "cell_type": "code",
      "execution_count": 6,
      "id": "5c818bee",
      "metadata": {
        "colab": {
          "base_uri": "https://localhost:8080/"
        },
        "id": "5c818bee",
        "outputId": "f73b884b-64a0-4843-fee1-10c399152a23"
      },
      "outputs": [
        {
          "data": {
            "text/plain": [
              "(12684, 26)"
            ]
          },
          "execution_count": 6,
          "metadata": {},
          "output_type": "execute_result"
        }
      ],
      "source": [
        "df.shape"
      ]
    },
    {
      "cell_type": "code",
      "execution_count": 7,
      "id": "2eae7295",
      "metadata": {
        "colab": {
          "base_uri": "https://localhost:8080/"
        },
        "id": "2eae7295",
        "outputId": "cab64011-9e4f-44d1-d2ca-9f41c2150ed4"
      },
      "outputs": [
        {
          "name": "stdout",
          "output_type": "stream",
          "text": [
            "<class 'pandas.core.frame.DataFrame'>\n",
            "RangeIndex: 12684 entries, 0 to 12683\n",
            "Data columns (total 26 columns):\n",
            " #   Column                Non-Null Count  Dtype \n",
            "---  ------                --------------  ----- \n",
            " 0   destination           12684 non-null  object\n",
            " 1   passanger             12684 non-null  object\n",
            " 2   weather               12684 non-null  object\n",
            " 3   temperature           12684 non-null  int64 \n",
            " 4   time                  12684 non-null  object\n",
            " 5   coupon                12684 non-null  object\n",
            " 6   expiration            12684 non-null  object\n",
            " 7   gender                12684 non-null  object\n",
            " 8   age                   12684 non-null  object\n",
            " 9   maritalStatus         12684 non-null  object\n",
            " 10  has_children          12684 non-null  int64 \n",
            " 11  education             12684 non-null  object\n",
            " 12  occupation            12684 non-null  object\n",
            " 13  income                12684 non-null  object\n",
            " 14  car                   108 non-null    object\n",
            " 15  Bar                   12577 non-null  object\n",
            " 16  CoffeeHouse           12467 non-null  object\n",
            " 17  CarryAway             12533 non-null  object\n",
            " 18  RestaurantLessThan20  12554 non-null  object\n",
            " 19  Restaurant20To50      12495 non-null  object\n",
            " 20  toCoupon_GEQ5min      12684 non-null  int64 \n",
            " 21  toCoupon_GEQ15min     12684 non-null  int64 \n",
            " 22  toCoupon_GEQ25min     12684 non-null  int64 \n",
            " 23  direction_same        12684 non-null  int64 \n",
            " 24  direction_opp         12684 non-null  int64 \n",
            " 25  Y                     12684 non-null  int64 \n",
            "dtypes: int64(8), object(18)\n",
            "memory usage: 2.5+ MB\n"
          ]
        }
      ],
      "source": [
        "df.info()"
      ]
    },
    {
      "cell_type": "code",
      "execution_count": 8,
      "id": "99fd0ee6",
      "metadata": {
        "colab": {
          "base_uri": "https://localhost:8080/"
        },
        "id": "99fd0ee6",
        "outputId": "f07e2120-70ac-4b83-ecae-380416ef0623"
      },
      "outputs": [
        {
          "data": {
            "text/plain": [
              "temperature          3\n",
              "has_children         2\n",
              "toCoupon_GEQ5min     1\n",
              "toCoupon_GEQ15min    2\n",
              "toCoupon_GEQ25min    2\n",
              "direction_same       2\n",
              "direction_opp        2\n",
              "Y                    2\n",
              "dtype: int64"
            ]
          },
          "execution_count": 8,
          "metadata": {},
          "output_type": "execute_result"
        }
      ],
      "source": [
        "# observando el número de características de las columnas numéricas\n",
        "df.select_dtypes('int64').nunique()"
      ]
    },
    {
      "cell_type": "code",
      "execution_count": 9,
      "id": "9fMN5zvZcakF",
      "metadata": {
        "colab": {
          "base_uri": "https://localhost:8080/",
          "height": 206
        },
        "id": "9fMN5zvZcakF",
        "outputId": "16eef36c-6f70-4983-f477-930681d36c53"
      },
      "outputs": [
        {
          "data": {
            "text/html": [
              "<div>\n",
              "<style scoped>\n",
              "    .dataframe tbody tr th:only-of-type {\n",
              "        vertical-align: middle;\n",
              "    }\n",
              "\n",
              "    .dataframe tbody tr th {\n",
              "        vertical-align: top;\n",
              "    }\n",
              "\n",
              "    .dataframe thead th {\n",
              "        text-align: right;\n",
              "    }\n",
              "</style>\n",
              "<table border=\"1\" class=\"dataframe\">\n",
              "  <thead>\n",
              "    <tr style=\"text-align: right;\">\n",
              "      <th></th>\n",
              "      <th>toCoupon</th>\n",
              "    </tr>\n",
              "  </thead>\n",
              "  <tbody>\n",
              "    <tr>\n",
              "      <th>0</th>\n",
              "      <td>0</td>\n",
              "    </tr>\n",
              "    <tr>\n",
              "      <th>1</th>\n",
              "      <td>0</td>\n",
              "    </tr>\n",
              "    <tr>\n",
              "      <th>2</th>\n",
              "      <td>1</td>\n",
              "    </tr>\n",
              "    <tr>\n",
              "      <th>3</th>\n",
              "      <td>1</td>\n",
              "    </tr>\n",
              "    <tr>\n",
              "      <th>4</th>\n",
              "      <td>1</td>\n",
              "    </tr>\n",
              "  </tbody>\n",
              "</table>\n",
              "</div>"
            ],
            "text/plain": [
              "   toCoupon\n",
              "0         0\n",
              "1         0\n",
              "2         1\n",
              "3         1\n",
              "4         1"
            ]
          },
          "execution_count": 9,
          "metadata": {},
          "output_type": "execute_result"
        }
      ],
      "source": [
        "''' Combinando dos atributos: toCoupon_GEQ15min, toCouponGEQ25min\n",
        "            0: time to coupon < 15min\n",
        "            1: 15 <= time to coupon < 25\n",
        "            2: time to coupon >= 25\n",
        "'''\n",
        "to_coupon = df[['toCoupon_GEQ15min', 'toCoupon_GEQ25min']].to_numpy()\n",
        "t = np.sum(to_coupon, axis=1)\n",
        "X_toCoupon = pd.Series(data = np.sum(to_coupon, axis = 1), name='toCoupon')\n",
        "\n",
        "# Volviendo a Dataframe\n",
        "X_toCoupon_1 = pd.DataFrame(X_toCoupon)\n",
        "X_toCoupon_1.head()"
      ]
    },
    {
      "cell_type": "markdown",
      "id": "008f2da8",
      "metadata": {
        "id": "008f2da8"
      },
      "source": [
        "**Eliminaremos las variable \"car\", presenta demasiados valores nulos, \"toCoupon_GEQ5min\" debido a que presenta solo un valor y no aporta al modelo** "
      ]
    },
    {
      "cell_type": "code",
      "execution_count": 10,
      "id": "68ddbae1",
      "metadata": {
        "id": "68ddbae1"
      },
      "outputs": [],
      "source": [
        "# Creando las columnas con las variables eliminadas\n",
        "# Separando las variables \"numéricas\" y \"categóricas\"\n",
        "\n",
        "columnsCategoric = ['destination','passanger','weather','time','coupon','expiration','gender','age',\n",
        "               'maritalStatus','education','occupation','income','Bar','CoffeeHouse','CarryAway',\n",
        "               'RestaurantLessThan20','Restaurant20To50']\n",
        "columnsNumeric   = ['temperature','has_children','direction_same','direction_opp'] "
      ]
    },
    {
      "cell_type": "code",
      "execution_count": 11,
      "id": "wzEBo32Lb620",
      "metadata": {
        "colab": {
          "base_uri": "https://localhost:8080/"
        },
        "id": "wzEBo32Lb620",
        "outputId": "d748376b-932b-4dba-9738-60fffaa8669b"
      },
      "outputs": [
        {
          "data": {
            "text/plain": [
              "(12684, 5)"
            ]
          },
          "execution_count": 11,
          "metadata": {},
          "output_type": "execute_result"
        }
      ],
      "source": [
        "# Concatenaremos los dataframe \"df[columnsNumeric]\" y \"X_toCoupon_1\"\n",
        "df_Numericos = pd.concat([df[columnsNumeric], X_toCoupon_1], axis=1)\n",
        "df_Numericos.shape"
      ]
    },
    {
      "cell_type": "markdown",
      "id": "54b36e8c",
      "metadata": {
        "id": "54b36e8c"
      },
      "source": [
        "# Imputando valores faltantes con el Método Simple.Imputer"
      ]
    },
    {
      "cell_type": "code",
      "execution_count": 12,
      "id": "1c38fc78",
      "metadata": {
        "colab": {
          "base_uri": "https://localhost:8080/"
        },
        "id": "1c38fc78",
        "outputId": "dbbdcac6-243e-4fce-c683-cb3b24c2002b"
      },
      "outputs": [
        {
          "data": {
            "text/plain": [
              "temperature       0\n",
              "has_children      0\n",
              "direction_same    0\n",
              "direction_opp     0\n",
              "toCoupon          0\n",
              "dtype: int64"
            ]
          },
          "execution_count": 12,
          "metadata": {},
          "output_type": "execute_result"
        }
      ],
      "source": [
        "# No existen valores nulos en las variables numéricas:\n",
        "df_Numericos.isnull().sum()"
      ]
    },
    {
      "cell_type": "code",
      "execution_count": 13,
      "id": "3378924b",
      "metadata": {
        "colab": {
          "base_uri": "https://localhost:8080/"
        },
        "id": "3378924b",
        "outputId": "c1a251aa-0369-4ef9-b87a-56a665b0f3ef"
      },
      "outputs": [
        {
          "data": {
            "text/plain": [
              "destination               0\n",
              "passanger                 0\n",
              "weather                   0\n",
              "time                      0\n",
              "coupon                    0\n",
              "expiration                0\n",
              "gender                    0\n",
              "age                       0\n",
              "maritalStatus             0\n",
              "education                 0\n",
              "occupation                0\n",
              "income                    0\n",
              "Bar                     107\n",
              "CoffeeHouse             217\n",
              "CarryAway               151\n",
              "RestaurantLessThan20    130\n",
              "Restaurant20To50        189\n",
              "dtype: int64"
            ]
          },
          "execution_count": 13,
          "metadata": {},
          "output_type": "execute_result"
        }
      ],
      "source": [
        "# Si existen valores nulos en las variables categóricas:\n",
        "df[columnsCategoric].isnull().sum()"
      ]
    },
    {
      "cell_type": "code",
      "execution_count": 15,
      "id": "0db8c447",
      "metadata": {
        "colab": {
          "base_uri": "https://localhost:8080/"
        },
        "id": "0db8c447",
        "outputId": "98e26f80-e2bb-48ac-ff28-96ced8702e64"
      },
      "outputs": [
        {
          "data": {
            "text/plain": [
              "Bar                     0\n",
              "CoffeeHouse             0\n",
              "CarryAway               0\n",
              "RestaurantLessThan20    0\n",
              "Restaurant20To50        0\n",
              "dtype: int64"
            ]
          },
          "execution_count": 15,
          "metadata": {},
          "output_type": "execute_result"
        }
      ],
      "source": [
        "# Imputando con el metodo Simple.Imputer\n",
        "from sklearn.impute import SimpleImputer\n",
        "\n",
        "# Generamos el imputador iterativo - Imputacion Univariado Categorica\n",
        "imp_cat = SimpleImputer(missing_values = np.nan, strategy = 'most_frequent')\n",
        "\n",
        "# Generamos los subset de variables a imputar\n",
        "data_impt_cat = df[['Bar','CoffeeHouse','CarryAway','RestaurantLessThan20','Restaurant20To50']]\n",
        "\n",
        "# Realizamos la imputacion univariada en una nueva base de datos V.Categoticas\n",
        "imp_cat.fit(data_impt_cat)\n",
        "imputed_data_cat = pd.DataFrame(data = imp_cat.transform(data_impt_cat),\n",
        "                columns = data_impt_cat.columns, dtype ='object')\n",
        "\n",
        "# Comprobando que ya no existen valores nulos en las variables categóricas\n",
        "imputed_data_cat.isnull().sum()"
      ]
    },
    {
      "cell_type": "code",
      "execution_count": 16,
      "id": "9001f5ef",
      "metadata": {
        "colab": {
          "base_uri": "https://localhost:8080/"
        },
        "id": "9001f5ef",
        "outputId": "68c4adb0-0ae4-42b5-d728-cf95546e6227"
      },
      "outputs": [
        {
          "data": {
            "text/plain": [
              "(12684, 12)"
            ]
          },
          "execution_count": 16,
          "metadata": {},
          "output_type": "execute_result"
        }
      ],
      "source": [
        "# Creando una arreglo de las variables categóricas que no tiene valores nulos\n",
        "columnsCategoric_no_null = ['destination','passanger','weather','time',\n",
        "                            'coupon','expiration','gender','age','maritalStatus',\n",
        "                            'education','occupation','income']\n",
        "\n",
        "data_categ_no_null = pd.DataFrame(df[columnsCategoric_no_null])\n",
        "data_categ_no_null.shape"
      ]
    },
    {
      "cell_type": "code",
      "execution_count": 17,
      "id": "9c67d792",
      "metadata": {
        "colab": {
          "base_uri": "https://localhost:8080/"
        },
        "id": "9c67d792",
        "outputId": "a5c5c7c0-6ad5-4088-ffcb-be4c0390d888"
      },
      "outputs": [
        {
          "data": {
            "text/plain": [
              "Bar                     0\n",
              "CoffeeHouse             0\n",
              "CarryAway               0\n",
              "RestaurantLessThan20    0\n",
              "Restaurant20To50        0\n",
              "destination             0\n",
              "passanger               0\n",
              "weather                 0\n",
              "time                    0\n",
              "coupon                  0\n",
              "expiration              0\n",
              "gender                  0\n",
              "age                     0\n",
              "maritalStatus           0\n",
              "education               0\n",
              "occupation              0\n",
              "income                  0\n",
              "dtype: int64"
            ]
          },
          "execution_count": 17,
          "metadata": {},
          "output_type": "execute_result"
        }
      ],
      "source": [
        "# Concatenamos los dos subsets: \"imputed_data_univ_cat\" y \"data_categ_no_null\"\n",
        "\n",
        "df_categorica_limpia = pd.concat([imputed_data_cat, data_categ_no_null], axis = 1)\n",
        "\n",
        "# Data categórica sin ningún valor nulo\n",
        "df_categorica_limpia.isnull().sum()"
      ]
    },
    {
      "cell_type": "code",
      "execution_count": 18,
      "id": "-sj8zbhLQQyp",
      "metadata": {
        "colab": {
          "base_uri": "https://localhost:8080/"
        },
        "id": "-sj8zbhLQQyp",
        "outputId": "6d9260b7-7460-478f-aaf9-73a19ebd1a76"
      },
      "outputs": [
        {
          "data": {
            "text/plain": [
              "(12684, 17)"
            ]
          },
          "execution_count": 18,
          "metadata": {},
          "output_type": "execute_result"
        }
      ],
      "source": [
        "df_categorica_limpia.shape"
      ]
    },
    {
      "cell_type": "code",
      "execution_count": 19,
      "id": "5da46b98",
      "metadata": {
        "colab": {
          "base_uri": "https://localhost:8080/"
        },
        "id": "5da46b98",
        "outputId": "5b318c76-3468-4417-ad28-1b1f4d04e408"
      },
      "outputs": [
        {
          "data": {
            "text/plain": [
              "Bar                      5\n",
              "CoffeeHouse              5\n",
              "CarryAway                5\n",
              "RestaurantLessThan20     5\n",
              "Restaurant20To50         5\n",
              "destination              3\n",
              "passanger                4\n",
              "weather                  3\n",
              "time                     5\n",
              "coupon                   5\n",
              "expiration               2\n",
              "gender                   2\n",
              "age                      8\n",
              "maritalStatus            5\n",
              "education                6\n",
              "occupation              25\n",
              "income                   9\n",
              "dtype: int64"
            ]
          },
          "execution_count": 19,
          "metadata": {},
          "output_type": "execute_result"
        }
      ],
      "source": [
        "# observando el número de características de las columnas categóricas\n",
        "df_categorica_limpia.select_dtypes('object').nunique()"
      ]
    },
    {
      "cell_type": "markdown",
      "id": "06020844",
      "metadata": {
        "id": "06020844"
      },
      "source": [
        "# One hot encoding"
      ]
    },
    {
      "cell_type": "code",
      "execution_count": 20,
      "id": "5510fd47",
      "metadata": {
        "colab": {
          "base_uri": "https://localhost:8080/",
          "height": 317
        },
        "id": "5510fd47",
        "outputId": "3a3ab8c9-283a-4fdd-e7bc-f1c6513d9f69"
      },
      "outputs": [
        {
          "data": {
            "text/html": [
              "<div>\n",
              "<style scoped>\n",
              "    .dataframe tbody tr th:only-of-type {\n",
              "        vertical-align: middle;\n",
              "    }\n",
              "\n",
              "    .dataframe tbody tr th {\n",
              "        vertical-align: top;\n",
              "    }\n",
              "\n",
              "    .dataframe thead th {\n",
              "        text-align: right;\n",
              "    }\n",
              "</style>\n",
              "<table border=\"1\" class=\"dataframe\">\n",
              "  <thead>\n",
              "    <tr style=\"text-align: right;\">\n",
              "      <th></th>\n",
              "      <th>destination_Home</th>\n",
              "      <th>destination_No Urgent Place</th>\n",
              "      <th>destination_Work</th>\n",
              "      <th>passanger_Alone</th>\n",
              "      <th>passanger_Friend(s)</th>\n",
              "      <th>passanger_Kid(s)</th>\n",
              "      <th>passanger_Partner</th>\n",
              "      <th>weather_Rainy</th>\n",
              "      <th>weather_Snowy</th>\n",
              "      <th>weather_Sunny</th>\n",
              "      <th>...</th>\n",
              "      <th>RestaurantLessThan20_1~3</th>\n",
              "      <th>RestaurantLessThan20_4~8</th>\n",
              "      <th>RestaurantLessThan20_gt8</th>\n",
              "      <th>RestaurantLessThan20_less1</th>\n",
              "      <th>RestaurantLessThan20_never</th>\n",
              "      <th>Restaurant20To50_1~3</th>\n",
              "      <th>Restaurant20To50_4~8</th>\n",
              "      <th>Restaurant20To50_gt8</th>\n",
              "      <th>Restaurant20To50_less1</th>\n",
              "      <th>Restaurant20To50_never</th>\n",
              "    </tr>\n",
              "  </thead>\n",
              "  <tbody>\n",
              "    <tr>\n",
              "      <th>0</th>\n",
              "      <td>0</td>\n",
              "      <td>1</td>\n",
              "      <td>0</td>\n",
              "      <td>1</td>\n",
              "      <td>0</td>\n",
              "      <td>0</td>\n",
              "      <td>0</td>\n",
              "      <td>0</td>\n",
              "      <td>0</td>\n",
              "      <td>1</td>\n",
              "      <td>...</td>\n",
              "      <td>0</td>\n",
              "      <td>1</td>\n",
              "      <td>0</td>\n",
              "      <td>0</td>\n",
              "      <td>0</td>\n",
              "      <td>1</td>\n",
              "      <td>0</td>\n",
              "      <td>0</td>\n",
              "      <td>0</td>\n",
              "      <td>0</td>\n",
              "    </tr>\n",
              "    <tr>\n",
              "      <th>1</th>\n",
              "      <td>0</td>\n",
              "      <td>1</td>\n",
              "      <td>0</td>\n",
              "      <td>0</td>\n",
              "      <td>1</td>\n",
              "      <td>0</td>\n",
              "      <td>0</td>\n",
              "      <td>0</td>\n",
              "      <td>0</td>\n",
              "      <td>1</td>\n",
              "      <td>...</td>\n",
              "      <td>0</td>\n",
              "      <td>1</td>\n",
              "      <td>0</td>\n",
              "      <td>0</td>\n",
              "      <td>0</td>\n",
              "      <td>1</td>\n",
              "      <td>0</td>\n",
              "      <td>0</td>\n",
              "      <td>0</td>\n",
              "      <td>0</td>\n",
              "    </tr>\n",
              "    <tr>\n",
              "      <th>2</th>\n",
              "      <td>0</td>\n",
              "      <td>1</td>\n",
              "      <td>0</td>\n",
              "      <td>0</td>\n",
              "      <td>1</td>\n",
              "      <td>0</td>\n",
              "      <td>0</td>\n",
              "      <td>0</td>\n",
              "      <td>0</td>\n",
              "      <td>1</td>\n",
              "      <td>...</td>\n",
              "      <td>0</td>\n",
              "      <td>1</td>\n",
              "      <td>0</td>\n",
              "      <td>0</td>\n",
              "      <td>0</td>\n",
              "      <td>1</td>\n",
              "      <td>0</td>\n",
              "      <td>0</td>\n",
              "      <td>0</td>\n",
              "      <td>0</td>\n",
              "    </tr>\n",
              "    <tr>\n",
              "      <th>3</th>\n",
              "      <td>0</td>\n",
              "      <td>1</td>\n",
              "      <td>0</td>\n",
              "      <td>0</td>\n",
              "      <td>1</td>\n",
              "      <td>0</td>\n",
              "      <td>0</td>\n",
              "      <td>0</td>\n",
              "      <td>0</td>\n",
              "      <td>1</td>\n",
              "      <td>...</td>\n",
              "      <td>0</td>\n",
              "      <td>1</td>\n",
              "      <td>0</td>\n",
              "      <td>0</td>\n",
              "      <td>0</td>\n",
              "      <td>1</td>\n",
              "      <td>0</td>\n",
              "      <td>0</td>\n",
              "      <td>0</td>\n",
              "      <td>0</td>\n",
              "    </tr>\n",
              "    <tr>\n",
              "      <th>4</th>\n",
              "      <td>0</td>\n",
              "      <td>1</td>\n",
              "      <td>0</td>\n",
              "      <td>0</td>\n",
              "      <td>1</td>\n",
              "      <td>0</td>\n",
              "      <td>0</td>\n",
              "      <td>0</td>\n",
              "      <td>0</td>\n",
              "      <td>1</td>\n",
              "      <td>...</td>\n",
              "      <td>0</td>\n",
              "      <td>1</td>\n",
              "      <td>0</td>\n",
              "      <td>0</td>\n",
              "      <td>0</td>\n",
              "      <td>1</td>\n",
              "      <td>0</td>\n",
              "      <td>0</td>\n",
              "      <td>0</td>\n",
              "      <td>0</td>\n",
              "    </tr>\n",
              "  </tbody>\n",
              "</table>\n",
              "<p>5 rows × 102 columns</p>\n",
              "</div>"
            ],
            "text/plain": [
              "   destination_Home  destination_No Urgent Place  destination_Work  \\\n",
              "0                 0                            1                 0   \n",
              "1                 0                            1                 0   \n",
              "2                 0                            1                 0   \n",
              "3                 0                            1                 0   \n",
              "4                 0                            1                 0   \n",
              "\n",
              "   passanger_Alone  passanger_Friend(s)  passanger_Kid(s)  passanger_Partner  \\\n",
              "0                1                    0                 0                  0   \n",
              "1                0                    1                 0                  0   \n",
              "2                0                    1                 0                  0   \n",
              "3                0                    1                 0                  0   \n",
              "4                0                    1                 0                  0   \n",
              "\n",
              "   weather_Rainy  weather_Snowy  weather_Sunny  ...  RestaurantLessThan20_1~3  \\\n",
              "0              0              0              1  ...                         0   \n",
              "1              0              0              1  ...                         0   \n",
              "2              0              0              1  ...                         0   \n",
              "3              0              0              1  ...                         0   \n",
              "4              0              0              1  ...                         0   \n",
              "\n",
              "   RestaurantLessThan20_4~8  RestaurantLessThan20_gt8  \\\n",
              "0                         1                         0   \n",
              "1                         1                         0   \n",
              "2                         1                         0   \n",
              "3                         1                         0   \n",
              "4                         1                         0   \n",
              "\n",
              "   RestaurantLessThan20_less1  RestaurantLessThan20_never  \\\n",
              "0                           0                           0   \n",
              "1                           0                           0   \n",
              "2                           0                           0   \n",
              "3                           0                           0   \n",
              "4                           0                           0   \n",
              "\n",
              "   Restaurant20To50_1~3  Restaurant20To50_4~8  Restaurant20To50_gt8  \\\n",
              "0                     1                     0                     0   \n",
              "1                     1                     0                     0   \n",
              "2                     1                     0                     0   \n",
              "3                     1                     0                     0   \n",
              "4                     1                     0                     0   \n",
              "\n",
              "   Restaurant20To50_less1  Restaurant20To50_never  \n",
              "0                       0                       0  \n",
              "1                       0                       0  \n",
              "2                       0                       0  \n",
              "3                       0                       0  \n",
              "4                       0                       0  \n",
              "\n",
              "[5 rows x 102 columns]"
            ]
          },
          "execution_count": 20,
          "metadata": {},
          "output_type": "execute_result"
        }
      ],
      "source": [
        "# Tratamiento de variables categoricas (O-H-E)\n",
        "one_hot_encoding = pd.get_dummies(df_categorica_limpia, columns = ['destination','passanger','weather','time',\n",
        "                                                            'coupon','expiration','gender','age','maritalStatus',\n",
        "                                                            'education','occupation','income','Bar','CoffeeHouse',\n",
        "                                                            'CarryAway','RestaurantLessThan20','Restaurant20To50'])\n",
        "one_hot_encoding.head()"
      ]
    },
    {
      "cell_type": "code",
      "execution_count": 21,
      "id": "oqpcREjQQ27R",
      "metadata": {
        "colab": {
          "base_uri": "https://localhost:8080/"
        },
        "id": "oqpcREjQQ27R",
        "outputId": "8f55968a-703c-4b34-fd13-5fa7380ac1db"
      },
      "outputs": [
        {
          "data": {
            "text/plain": [
              "(12684, 107)"
            ]
          },
          "execution_count": 21,
          "metadata": {},
          "output_type": "execute_result"
        }
      ],
      "source": [
        "# Concatenamos las variables categóricas con las variables numéricas\n",
        "df_concat_1 = pd.concat([one_hot_encoding, df_Numericos], axis=1)\n",
        "df_concat_1.shape"
      ]
    },
    {
      "cell_type": "code",
      "execution_count": 23,
      "id": "2ed729fa",
      "metadata": {
        "colab": {
          "base_uri": "https://localhost:8080/"
        },
        "id": "2ed729fa",
        "outputId": "8fe8faed-23ac-4714-f265-b0ec6192a440"
      },
      "outputs": [
        {
          "data": {
            "text/plain": [
              "(12684, 108)"
            ]
          },
          "execution_count": 23,
          "metadata": {},
          "output_type": "execute_result"
        }
      ],
      "source": [
        "# Concatenamos df_concat_1 con el target \"Y\"\n",
        "df_concat_2 = pd.concat([df_concat_1, df['Y']], axis=1)\n",
        "df_concat_2.shape"
      ]
    },
    {
      "cell_type": "markdown",
      "id": "Bc1--nC6RXy7",
      "metadata": {
        "id": "Bc1--nC6RXy7"
      },
      "source": [
        "# Balanceo por el método SMOTE"
      ]
    },
    {
      "cell_type": "code",
      "execution_count": 24,
      "id": "nFUwdzCeRTEU",
      "metadata": {
        "colab": {
          "base_uri": "https://localhost:8080/",
          "height": 334
        },
        "id": "nFUwdzCeRTEU",
        "outputId": "cd7d0c74-ab74-4191-a734-ee0747e8714a"
      },
      "outputs": [
        {
          "data": {
            "image/png": "[encoded data removed]",
            "text/plain": [
              "<Figure size 432x360 with 1 Axes>"
            ]
          },
          "metadata": {
            "needs_background": "light"
          },
          "output_type": "display_data"
        }
      ],
      "source": [
        "# Observando los datos sin balancear\n",
        "plt.figure(figsize=(6,5))\n",
        "sns.countplot(x='Y', data = df_concat_2, palette = 'hls')\n",
        "plt.show()"
      ]
    },
    {
      "cell_type": "code",
      "execution_count": 25,
      "id": "28pRBEddT8JD",
      "metadata": {
        "colab": {
          "base_uri": "https://localhost:8080/"
        },
        "id": "28pRBEddT8JD",
        "outputId": "b9d5bfba-c904-4fdd-c4d2-30c3561ec97f"
      },
      "outputs": [
        {
          "data": {
            "text/plain": [
              "1    7210\n",
              "0    5474\n",
              "Name: Y, dtype: int64"
            ]
          },
          "execution_count": 25,
          "metadata": {},
          "output_type": "execute_result"
        }
      ],
      "source": [
        "# Observando la cantidad de por característica\n",
        "df_concat_2['Y'].value_counts()"
      ]
    },
    {
      "cell_type": "code",
      "execution_count": 26,
      "id": "P0ysbgbgRTBh",
      "metadata": {
        "colab": {
          "base_uri": "https://localhost:8080/"
        },
        "id": "P0ysbgbgRTBh",
        "outputId": "0b891e33-ad74-4b64-9953-724b37ed053a"
      },
      "outputs": [
        {
          "data": {
            "text/plain": [
              "((12684, 107), (12684,))"
            ]
          },
          "execution_count": 26,
          "metadata": {},
          "output_type": "execute_result"
        }
      ],
      "source": [
        "# Separando la variables predictoras y la variable predictiva \n",
        "X = df_concat_2.drop(['Y'], axis=1)\n",
        "y = df_concat_2['Y'].copy()\n",
        "X.shape, y.shape"
      ]
    },
    {
      "cell_type": "code",
      "execution_count": 27,
      "id": "4X0D7uULNGa7",
      "metadata": {
        "colab": {
          "base_uri": "https://localhost:8080/"
        },
        "id": "4X0D7uULNGa7",
        "outputId": "03359558-3371-4bd9-bb11-ef06d3cc6d8a"
      },
      "outputs": [
        {
          "data": {
            "text/plain": [
              "((14420, 107), (14420,))"
            ]
          },
          "execution_count": 27,
          "metadata": {},
          "output_type": "execute_result"
        }
      ],
      "source": [
        "from imblearn.over_sampling import SMOTE\n",
        "\n",
        "smote = SMOTE()\n",
        "X_sm, y_sm = smote.fit_resample(X, y)\n",
        "X_sm.shape, y_sm.shape"
      ]
    },
    {
      "cell_type": "code",
      "execution_count": 28,
      "id": "uYJe26yaN7-H",
      "metadata": {
        "colab": {
          "base_uri": "https://localhost:8080/"
        },
        "id": "uYJe26yaN7-H",
        "outputId": "376dd30e-f08b-42b8-85bc-ba68e98072df"
      },
      "outputs": [
        {
          "data": {
            "text/plain": [
              "1    7210\n",
              "0    7210\n",
              "Name: Y, dtype: int64"
            ]
          },
          "execution_count": 28,
          "metadata": {},
          "output_type": "execute_result"
        }
      ],
      "source": [
        "y_sm.value_counts()"
      ]
    },
    {
      "cell_type": "markdown",
      "id": "e92cae4c",
      "metadata": {
        "id": "e92cae4c"
      },
      "source": [
        "# Estandarizando"
      ]
    },
    {
      "cell_type": "code",
      "execution_count": 30,
      "id": "bc9dd3c3",
      "metadata": {
        "id": "bc9dd3c3"
      },
      "outputs": [],
      "source": [
        "# Standarizando las variables\n",
        "from sklearn.preprocessing import MinMaxScaler\n",
        "scaler = MinMaxScaler()\n",
        "X_scaler = scaler.fit_transform(X_sm)\n",
        "X_scaler = pd.DataFrame(X_scaler)\n",
        "X_scaler.columns = X.columns"
      ]
    },
    {
      "cell_type": "code",
      "execution_count": 31,
      "id": "315cb8fe",
      "metadata": {
        "colab": {
          "base_uri": "https://localhost:8080/"
        },
        "id": "315cb8fe",
        "outputId": "1c5f8321-6ce1-4e53-d622-51d05bc474c1"
      },
      "outputs": [
        {
          "data": {
            "text/plain": [
              "((14420, 107), (14420,))"
            ]
          },
          "execution_count": 31,
          "metadata": {},
          "output_type": "execute_result"
        }
      ],
      "source": [
        "X1 = X_sm.copy()\n",
        "y1 = y_sm.copy()\n",
        "X1.shape, y1.shape"
      ]
    },
    {
      "cell_type": "markdown",
      "id": "zarJfmiEO1o3",
      "metadata": {
        "id": "zarJfmiEO1o3"
      },
      "source": [
        "# Selección de variables importantes"
      ]
    },
    {
      "cell_type": "code",
      "execution_count": 32,
      "id": "2aa0afb2",
      "metadata": {
        "colab": {
          "base_uri": "https://localhost:8080/"
        },
        "id": "2aa0afb2",
        "outputId": "34a57424-57af-4b7c-8559-bf5fc1e6d919"
      },
      "outputs": [
        {
          "data": {
            "text/plain": [
              "Index(['coupon_Restaurant(<20)'], dtype='object')"
            ]
          },
          "execution_count": 32,
          "metadata": {},
          "output_type": "execute_result"
        }
      ],
      "source": [
        "X1.columns[X1.columns.str.contains(\"[\\[\\]<]\")]"
      ]
    },
    {
      "cell_type": "code",
      "execution_count": 33,
      "id": "00f83b87",
      "metadata": {
        "id": "00f83b87"
      },
      "outputs": [],
      "source": [
        "X1.columns = X1.columns.str.translate(\"\".maketrans({\"[\":\"{\", \"]\":\"}\",\"<\":\"^\"}))"
      ]
    },
    {
      "cell_type": "code",
      "execution_count": 34,
      "id": "8e46d688",
      "metadata": {
        "colab": {
          "base_uri": "https://localhost:8080/"
        },
        "id": "8e46d688",
        "outputId": "3925cde3-3fb8-42b3-dea8-c343eb8f2d83"
      },
      "outputs": [
        {
          "data": {
            "text/html": [
              "<style>#sk-container-id-1 {color: black;background-color: white;}#sk-container-id-1 pre{padding: 0;}#sk-container-id-1 div.sk-toggleable {background-color: white;}#sk-container-id-1 label.sk-toggleable__label {cursor: pointer;display: block;width: 100%;margin-bottom: 0;padding: 0.3em;box-sizing: border-box;text-align: center;}#sk-container-id-1 label.sk-toggleable__label-arrow:before {content: \"▸\";float: left;margin-right: 0.25em;color: #696969;}#sk-container-id-1 label.sk-toggleable__label-arrow:hover:before {color: black;}#sk-container-id-1 div.sk-estimator:hover label.sk-toggleable__label-arrow:before {color: black;}#sk-container-id-1 div.sk-toggleable__content {max-height: 0;max-width: 0;overflow: hidden;text-align: left;background-color: #f0f8ff;}#sk-container-id-1 div.sk-toggleable__content pre {margin: 0.2em;color: black;border-radius: 0.25em;background-color: #f0f8ff;}#sk-container-id-1 input.sk-toggleable__control:checked~div.sk-toggleable__content {max-height: 200px;max-width: 100%;overflow: auto;}#sk-container-id-1 input.sk-toggleable__control:checked~label.sk-toggleable__label-arrow:before {content: \"▾\";}#sk-container-id-1 div.sk-estimator input.sk-toggleable__control:checked~label.sk-toggleable__label {background-color: #d4ebff;}#sk-container-id-1 div.sk-label input.sk-toggleable__control:checked~label.sk-toggleable__label {background-color: #d4ebff;}#sk-container-id-1 input.sk-hidden--visually {border: 0;clip: rect(1px 1px 1px 1px);clip: rect(1px, 1px, 1px, 1px);height: 1px;margin: -1px;overflow: hidden;padding: 0;position: absolute;width: 1px;}#sk-container-id-1 div.sk-estimator {font-family: monospace;background-color: #f0f8ff;border: 1px dotted black;border-radius: 0.25em;box-sizing: border-box;margin-bottom: 0.5em;}#sk-container-id-1 div.sk-estimator:hover {background-color: #d4ebff;}#sk-container-id-1 div.sk-parallel-item::after {content: \"\";width: 100%;border-bottom: 1px solid gray;flex-grow: 1;}#sk-container-id-1 div.sk-label:hover label.sk-toggleable__label {background-color: #d4ebff;}#sk-container-id-1 div.sk-serial::before {content: \"\";position: absolute;border-left: 1px solid gray;box-sizing: border-box;top: 0;bottom: 0;left: 50%;z-index: 0;}#sk-container-id-1 div.sk-serial {display: flex;flex-direction: column;align-items: center;background-color: white;padding-right: 0.2em;padding-left: 0.2em;position: relative;}#sk-container-id-1 div.sk-item {position: relative;z-index: 1;}#sk-container-id-1 div.sk-parallel {display: flex;align-items: stretch;justify-content: center;background-color: white;position: relative;}#sk-container-id-1 div.sk-item::before, #sk-container-id-1 div.sk-parallel-item::before {content: \"\";position: absolute;border-left: 1px solid gray;box-sizing: border-box;top: 0;bottom: 0;left: 50%;z-index: -1;}#sk-container-id-1 div.sk-parallel-item {display: flex;flex-direction: column;z-index: 1;position: relative;background-color: white;}#sk-container-id-1 div.sk-parallel-item:first-child::after {align-self: flex-end;width: 50%;}#sk-container-id-1 div.sk-parallel-item:last-child::after {align-self: flex-start;width: 50%;}#sk-container-id-1 div.sk-parallel-item:only-child::after {width: 0;}#sk-container-id-1 div.sk-dashed-wrapped {border: 1px dashed gray;margin: 0 0.4em 0.5em 0.4em;box-sizing: border-box;padding-bottom: 0.4em;background-color: white;}#sk-container-id-1 div.sk-label label {font-family: monospace;font-weight: bold;display: inline-block;line-height: 1.2em;}#sk-container-id-1 div.sk-label-container {text-align: center;}#sk-container-id-1 div.sk-container {/* jupyter's `normalize.less` sets `[hidden] { display: none; }` but bootstrap.min.css set `[hidden] { display: none !important; }` so we also need the `!important` here to be able to override the default hidden behavior on the sphinx rendered scikit-learn.org. See: https://github.com/scikit-learn/scikit-learn/issues/21755 */display: inline-block !important;position: relative;}#sk-container-id-1 div.sk-text-repr-fallback {display: none;}</style><div id=\"sk-container-id-1\" class=\"sk-top-container\"><div class=\"sk-text-repr-fallback\"><pre>XGBClassifier(base_score=0.5, booster=&#x27;gbtree&#x27;, callbacks=None,\n",
              "              colsample_bylevel=1, colsample_bynode=1, colsample_bytree=1,\n",
              "              early_stopping_rounds=None, enable_categorical=False,\n",
              "              eval_metric=None, gamma=0, gpu_id=-1, grow_policy=&#x27;depthwise&#x27;,\n",
              "              importance_type=None, interaction_constraints=&#x27;&#x27;,\n",
              "              learning_rate=0.300000012, max_bin=256, max_cat_to_onehot=4,\n",
              "              max_delta_step=0, max_depth=6, max_leaves=0, min_child_weight=1,\n",
              "              missing=nan, monotone_constraints=&#x27;()&#x27;, n_estimators=100,\n",
              "              n_jobs=0, num_parallel_tree=1, predictor=&#x27;auto&#x27;, random_state=100,\n",
              "              reg_alpha=0, reg_lambda=1, ...)</pre><b>In a Jupyter environment, please rerun this cell to show the HTML representation or trust the notebook. <br />On GitHub, the HTML representation is unable to render, please try loading this page with nbviewer.org.</b></div><div class=\"sk-container\" hidden><div class=\"sk-item\"><div class=\"sk-estimator sk-toggleable\"><input class=\"sk-toggleable__control sk-hidden--visually\" id=\"sk-estimator-id-1\" type=\"checkbox\" checked><label for=\"sk-estimator-id-1\" class=\"sk-toggleable__label sk-toggleable__label-arrow\">XGBClassifier</label><div class=\"sk-toggleable__content\"><pre>XGBClassifier(base_score=0.5, booster=&#x27;gbtree&#x27;, callbacks=None,\n",
              "              colsample_bylevel=1, colsample_bynode=1, colsample_bytree=1,\n",
              "              early_stopping_rounds=None, enable_categorical=False,\n",
              "              eval_metric=None, gamma=0, gpu_id=-1, grow_policy=&#x27;depthwise&#x27;,\n",
              "              importance_type=None, interaction_constraints=&#x27;&#x27;,\n",
              "              learning_rate=0.300000012, max_bin=256, max_cat_to_onehot=4,\n",
              "              max_delta_step=0, max_depth=6, max_leaves=0, min_child_weight=1,\n",
              "              missing=nan, monotone_constraints=&#x27;()&#x27;, n_estimators=100,\n",
              "              n_jobs=0, num_parallel_tree=1, predictor=&#x27;auto&#x27;, random_state=100,\n",
              "              reg_alpha=0, reg_lambda=1, ...)</pre></div></div></div></div></div>"
            ],
            "text/plain": [
              "XGBClassifier(base_score=0.5, booster='gbtree', callbacks=None,\n",
              "              colsample_bylevel=1, colsample_bynode=1, colsample_bytree=1,\n",
              "              early_stopping_rounds=None, enable_categorical=False,\n",
              "              eval_metric=None, gamma=0, gpu_id=-1, grow_policy='depthwise',\n",
              "              importance_type=None, interaction_constraints='',\n",
              "              learning_rate=0.300000012, max_bin=256, max_cat_to_onehot=4,\n",
              "              max_delta_step=0, max_depth=6, max_leaves=0, min_child_weight=1,\n",
              "              missing=nan, monotone_constraints='()', n_estimators=100,\n",
              "              n_jobs=0, num_parallel_tree=1, predictor='auto', random_state=100,\n",
              "              reg_alpha=0, reg_lambda=1, ...)"
            ]
          },
          "execution_count": 34,
          "metadata": {},
          "output_type": "execute_result"
        }
      ],
      "source": [
        "# Selección de variables importantes por XG Boost\n",
        "from xgboost import XGBClassifier\n",
        "\n",
        "xgb = XGBClassifier(random_state = 100)\n",
        "xgb.fit(X1, y1)"
      ]
    },
    {
      "cell_type": "code",
      "execution_count": null,
      "id": "84601ff2",
      "metadata": {
        "colab": {
          "base_uri": "https://localhost:8080/"
        },
        "id": "84601ff2",
        "outputId": "679d7188-7075-4985-807e-47a86807204d"
      },
      "outputs": [
        {
          "data": {
            "text/plain": [
              "array([0.00046751, 0.02830078, 0.00887239, 0.00859691, 0.02203814,\n",
              "       0.00538224, 0.02118934, 0.00848203, 0.        , 0.02507002,\n",
              "       0.00908011, 0.01541733, 0.00883546, 0.00877698, 0.        ,\n",
              "       0.02440834, 0.04996286, 0.01139369, 0.        , 0.05790219,\n",
              "       0.0311708 , 0.03559778, 0.01488366, 0.0098079 , 0.00990278,\n",
              "       0.00376111, 0.00945274, 0.00375582, 0.00467055, 0.00089246,\n",
              "       0.00449316, 0.00393168, 0.        , 0.00481007, 0.01049334,\n",
              "       0.00488938, 0.        , 0.00389919, 0.        , 0.00683562,\n",
              "       0.00543643, 0.00432652, 0.00758651, 0.01150245, 0.00222579,\n",
              "       0.        , 0.        , 0.        , 0.        , 0.00646662,\n",
              "       0.01206194, 0.        , 0.        , 0.00483864, 0.00664088,\n",
              "       0.00466719, 0.        , 0.00402006, 0.006067  , 0.00325157,\n",
              "       0.        , 0.        , 0.00475058, 0.        , 0.00484118,\n",
              "       0.00410678, 0.00376791, 0.01071366, 0.00463565, 0.00625925,\n",
              "       0.00753537, 0.00580405, 0.00728926, 0.        , 0.00951003,\n",
              "       0.00323475, 0.        , 0.00821528, 0.00807724, 0.00414448,\n",
              "       0.00434861, 0.05186363, 0.02386118, 0.0156372 , 0.00621701,\n",
              "       0.        , 0.0421976 , 0.00515675, 0.0075385 , 0.        ,\n",
              "       0.00989191, 0.        , 0.        , 0.00317881, 0.01343514,\n",
              "       0.        , 0.01264581, 0.0058056 , 0.0073951 , 0.00622608,\n",
              "       0.0035774 , 0.00810524, 0.00465073, 0.01731648, 0.01900563,\n",
              "       0.02785042, 0.05469377], dtype=float32)"
            ]
          },
          "execution_count": 76,
          "metadata": {},
          "output_type": "execute_result"
        }
      ],
      "source": [
        "# Selección de variables importantes por Random Forest\n",
        "xgb.feature_importances_"
      ]
    },
    {
      "cell_type": "code",
      "execution_count": null,
      "id": "3f25cb91",
      "metadata": {
        "colab": {
          "base_uri": "https://localhost:8080/",
          "height": 677
        },
        "id": "3f25cb91",
        "outputId": "45c9e982-e90a-4a40-a696-7792785e186e"
      },
      "outputs": [
        {
          "data": {
            "text/html": [
              "\n",
              "  <div id=\"df-a00ba506-2673-42eb-8f15-d05565d61b7c\">\n",
              "    <div class=\"colab-df-container\">\n",
              "      <div>\n",
              "<style scoped>\n",
              "    .dataframe tbody tr th:only-of-type {\n",
              "        vertical-align: middle;\n",
              "    }\n",
              "\n",
              "    .dataframe tbody tr th {\n",
              "        vertical-align: top;\n",
              "    }\n",
              "\n",
              "    .dataframe thead th {\n",
              "        text-align: right;\n",
              "    }\n",
              "</style>\n",
              "<table border=\"1\" class=\"dataframe\">\n",
              "  <thead>\n",
              "    <tr style=\"text-align: right;\">\n",
              "      <th></th>\n",
              "      <th>Features</th>\n",
              "      <th>Importancia</th>\n",
              "    </tr>\n",
              "  </thead>\n",
              "  <tbody>\n",
              "    <tr>\n",
              "      <th>0</th>\n",
              "      <td>occupation_Personal Care &amp; Service</td>\n",
              "      <td>0.0</td>\n",
              "    </tr>\n",
              "    <tr>\n",
              "      <th>1</th>\n",
              "      <td>occupation_Community &amp; Social Services</td>\n",
              "      <td>0.0</td>\n",
              "    </tr>\n",
              "    <tr>\n",
              "      <th>2</th>\n",
              "      <td>occupation_Computer &amp; Mathematical</td>\n",
              "      <td>0.0</td>\n",
              "    </tr>\n",
              "    <tr>\n",
              "      <th>3</th>\n",
              "      <td>occupation_Farming Fishing &amp; Forestry</td>\n",
              "      <td>0.0</td>\n",
              "    </tr>\n",
              "    <tr>\n",
              "      <th>4</th>\n",
              "      <td>occupation_Food Preparation &amp; Serving Related</td>\n",
              "      <td>0.0</td>\n",
              "    </tr>\n",
              "    <tr>\n",
              "      <th>5</th>\n",
              "      <td>education_Bachelors degree</td>\n",
              "      <td>0.0</td>\n",
              "    </tr>\n",
              "    <tr>\n",
              "      <th>6</th>\n",
              "      <td>maritalStatus_Widowed</td>\n",
              "      <td>0.0</td>\n",
              "    </tr>\n",
              "    <tr>\n",
              "      <th>7</th>\n",
              "      <td>occupation_Legal</td>\n",
              "      <td>0.0</td>\n",
              "    </tr>\n",
              "    <tr>\n",
              "      <th>8</th>\n",
              "      <td>maritalStatus_Divorced</td>\n",
              "      <td>0.0</td>\n",
              "    </tr>\n",
              "    <tr>\n",
              "      <th>9</th>\n",
              "      <td>occupation_Building &amp; Grounds Cleaning &amp; Maint...</td>\n",
              "      <td>0.0</td>\n",
              "    </tr>\n",
              "    <tr>\n",
              "      <th>10</th>\n",
              "      <td>occupation_Production Occupations</td>\n",
              "      <td>0.0</td>\n",
              "    </tr>\n",
              "    <tr>\n",
              "      <th>11</th>\n",
              "      <td>occupation_Retired</td>\n",
              "      <td>0.0</td>\n",
              "    </tr>\n",
              "    <tr>\n",
              "      <th>12</th>\n",
              "      <td>coupon_Restaurant(20-50)</td>\n",
              "      <td>0.0</td>\n",
              "    </tr>\n",
              "    <tr>\n",
              "      <th>13</th>\n",
              "      <td>income_$62500 - $74999</td>\n",
              "      <td>0.0</td>\n",
              "    </tr>\n",
              "    <tr>\n",
              "      <th>14</th>\n",
              "      <td>occupation_Business &amp; Financial</td>\n",
              "      <td>0.0</td>\n",
              "    </tr>\n",
              "    <tr>\n",
              "      <th>15</th>\n",
              "      <td>RestaurantLessThan20_less1</td>\n",
              "      <td>0.0</td>\n",
              "    </tr>\n",
              "    <tr>\n",
              "      <th>16</th>\n",
              "      <td>income_Less than $12500</td>\n",
              "      <td>0.0</td>\n",
              "    </tr>\n",
              "    <tr>\n",
              "      <th>17</th>\n",
              "      <td>RestaurantLessThan20_1~3</td>\n",
              "      <td>0.0</td>\n",
              "    </tr>\n",
              "    <tr>\n",
              "      <th>18</th>\n",
              "      <td>CarryAway_never</td>\n",
              "      <td>0.0</td>\n",
              "    </tr>\n",
              "    <tr>\n",
              "      <th>19</th>\n",
              "      <td>CarryAway_gt8</td>\n",
              "      <td>0.0</td>\n",
              "    </tr>\n",
              "  </tbody>\n",
              "</table>\n",
              "</div>\n",
              "      <button class=\"colab-df-convert\" onclick=\"convertToInteractive('df-a00ba506-2673-42eb-8f15-d05565d61b7c')\"\n",
              "              title=\"Convert this dataframe to an interactive table.\"\n",
              "              style=\"display:none;\">\n",
              "        \n",
              "  <svg xmlns=\"http://www.w3.org/2000/svg\" height=\"24px\"viewBox=\"0 0 24 24\"\n",
              "       width=\"24px\">\n",
              "    <path d=\"M0 0h24v24H0V0z\" fill=\"none\"/>\n",
              "    <path d=\"M18.56 5.44l.94 2.06.94-2.06 2.06-.94-2.06-.94-.94-2.06-.94 2.06-2.06.94zm-11 1L8.5 8.5l.94-2.06 2.06-.94-2.06-.94L8.5 2.5l-.94 2.06-2.06.94zm10 10l.94 2.06.94-2.06 2.06-.94-2.06-.94-.94-2.06-.94 2.06-2.06.94z\"/><path d=\"M17.41 7.96l-1.37-1.37c-.4-.4-.92-.59-1.43-.59-.52 0-1.04.2-1.43.59L10.3 9.45l-7.72 7.72c-.78.78-.78 2.05 0 2.83L4 21.41c.39.39.9.59 1.41.59.51 0 1.02-.2 1.41-.59l7.78-7.78 2.81-2.81c.8-.78.8-2.07 0-2.86zM5.41 20L4 18.59l7.72-7.72 1.47 1.35L5.41 20z\"/>\n",
              "  </svg>\n",
              "      </button>\n",
              "      \n",
              "  <style>\n",
              "    .colab-df-container {\n",
              "      display:flex;\n",
              "      flex-wrap:wrap;\n",
              "      gap: 12px;\n",
              "    }\n",
              "\n",
              "    .colab-df-convert {\n",
              "      background-color: #E8F0FE;\n",
              "      border: none;\n",
              "      border-radius: 50%;\n",
              "      cursor: pointer;\n",
              "      display: none;\n",
              "      fill: #1967D2;\n",
              "      height: 32px;\n",
              "      padding: 0 0 0 0;\n",
              "      width: 32px;\n",
              "    }\n",
              "\n",
              "    .colab-df-convert:hover {\n",
              "      background-color: #E2EBFA;\n",
              "      box-shadow: 0px 1px 2px rgba(60, 64, 67, 0.3), 0px 1px 3px 1px rgba(60, 64, 67, 0.15);\n",
              "      fill: #174EA6;\n",
              "    }\n",
              "\n",
              "    [theme=dark] .colab-df-convert {\n",
              "      background-color: #3B4455;\n",
              "      fill: #D2E3FC;\n",
              "    }\n",
              "\n",
              "    [theme=dark] .colab-df-convert:hover {\n",
              "      background-color: #434B5C;\n",
              "      box-shadow: 0px 1px 3px 1px rgba(0, 0, 0, 0.15);\n",
              "      filter: drop-shadow(0px 1px 2px rgba(0, 0, 0, 0.3));\n",
              "      fill: #FFFFFF;\n",
              "    }\n",
              "  </style>\n",
              "\n",
              "      <script>\n",
              "        const buttonEl =\n",
              "          document.querySelector('#df-a00ba506-2673-42eb-8f15-d05565d61b7c button.colab-df-convert');\n",
              "        buttonEl.style.display =\n",
              "          google.colab.kernel.accessAllowed ? 'block' : 'none';\n",
              "\n",
              "        async function convertToInteractive(key) {\n",
              "          const element = document.querySelector('#df-a00ba506-2673-42eb-8f15-d05565d61b7c');\n",
              "          const dataTable =\n",
              "            await google.colab.kernel.invokeFunction('convertToInteractive',\n",
              "                                                     [key], {});\n",
              "          if (!dataTable) return;\n",
              "\n",
              "          const docLinkHtml = 'Like what you see? Visit the ' +\n",
              "            '<a target=\"_blank\" href=https://colab.research.google.com/notebooks/data_table.ipynb>data table notebook</a>'\n",
              "            + ' to learn more about interactive tables.';\n",
              "          element.innerHTML = '';\n",
              "          dataTable['output_type'] = 'display_data';\n",
              "          await google.colab.output.renderOutput(dataTable, element);\n",
              "          const docLink = document.createElement('div');\n",
              "          docLink.innerHTML = docLinkHtml;\n",
              "          element.appendChild(docLink);\n",
              "        }\n",
              "      </script>\n",
              "    </div>\n",
              "  </div>\n",
              "  "
            ],
            "text/plain": [
              "                                             Features  Importancia\n",
              "0                  occupation_Personal Care & Service          0.0\n",
              "1              occupation_Community & Social Services          0.0\n",
              "2                  occupation_Computer & Mathematical          0.0\n",
              "3               occupation_Farming Fishing & Forestry          0.0\n",
              "4       occupation_Food Preparation & Serving Related          0.0\n",
              "5                          education_Bachelors degree          0.0\n",
              "6                               maritalStatus_Widowed          0.0\n",
              "7                                    occupation_Legal          0.0\n",
              "8                              maritalStatus_Divorced          0.0\n",
              "9   occupation_Building & Grounds Cleaning & Maint...          0.0\n",
              "10                  occupation_Production Occupations          0.0\n",
              "11                                 occupation_Retired          0.0\n",
              "12                           coupon_Restaurant(20-50)          0.0\n",
              "13                             income_$62500 - $74999          0.0\n",
              "14                    occupation_Business & Financial          0.0\n",
              "15                         RestaurantLessThan20_less1          0.0\n",
              "16                            income_Less than $12500          0.0\n",
              "17                           RestaurantLessThan20_1~3          0.0\n",
              "18                                    CarryAway_never          0.0\n",
              "19                                      CarryAway_gt8          0.0"
            ]
          },
          "execution_count": 77,
          "metadata": {},
          "output_type": "execute_result"
        }
      ],
      "source": [
        "# Creando tabla de Importancia de Variables\n",
        "TablaImportancia = pd.concat([pd.DataFrame({'Features': list(X1)}),\n",
        "                              pd.DataFrame({'Importancia': list(xgb.feature_importances_)})], axis = 1)\n",
        "ImportVariables = TablaImportancia[['Features','Importancia']].sort_values('Importancia',ascending=True).reset_index(drop=True)\n",
        "ImportVariables.head(20)"
      ]
    },
    {
      "cell_type": "code",
      "execution_count": null,
      "id": "ff2f3ebb",
      "metadata": {
        "colab": {
          "base_uri": "https://localhost:8080/",
          "height": 1000
        },
        "id": "ff2f3ebb",
        "outputId": "0d5ba103-800b-4114-ce23-f9e4ffc04a1b"
      },
      "outputs": [
        {
          "data": {
            "image/png": "[encoded data removed]",
            "text/plain": [
              "<Figure size 576x1800 with 1 Axes>"
            ]
          },
          "metadata": {
            "needs_background": "light"
          },
          "output_type": "display_data"
        }
      ],
      "source": [
        "# Gráfica de Variables importantes \n",
        "plt.figure(figsize = (8,25))\n",
        "sns.barplot(x = ImportVariables['Importancia'], y = ImportVariables['Features'])\n",
        "plt.xlabel('Feature Importance Score',fontsize=18)\n",
        "plt.ylabel('Features', fontsize=17)\n",
        "plt.title(\"Visualizing Important Features\",fontsize=18)\n",
        "plt.show()"
      ]
    },
    {
      "cell_type": "code",
      "execution_count": null,
      "id": "197532dc",
      "metadata": {
        "colab": {
          "base_uri": "https://localhost:8080/"
        },
        "id": "197532dc",
        "outputId": "ed75a184-2761-4f57-dae6-a095492007c0"
      },
      "outputs": [
        {
          "data": {
            "text/plain": [
              "((14420, 102), (14420,))"
            ]
          },
          "execution_count": 79,
          "metadata": {},
          "output_type": "execute_result"
        }
      ],
      "source": [
        "# Eliminando variables menos importantes\n",
        "X2 = X1.drop(['direction_opp', 'time_7AM', 'gender_Male', 'expiration_2h',\n",
        "              'occupation_Building & Grounds Cleaning & Maintenance'], axis=1)\n",
        "\n",
        "X2.shape, y1.shape"
      ]
    },
    {
      "cell_type": "code",
      "execution_count": null,
      "id": "4c0d43fd",
      "metadata": {
        "id": "4c0d43fd"
      },
      "outputs": [],
      "source": [
        "# Partición de Datos: Train, Test\n",
        "from sklearn.model_selection import train_test_split\n",
        "\n",
        "X_train, X_test, y_train, y_test = train_test_split(X2, y1, stratify = y1,\n",
        "                                                    test_size = 0.3, random_state = 100)"
      ]
    },
    {
      "cell_type": "code",
      "execution_count": null,
      "id": "dd2a0ca7",
      "metadata": {
        "colab": {
          "base_uri": "https://localhost:8080/"
        },
        "id": "dd2a0ca7",
        "outputId": "79442dba-af7a-4e0f-beaf-a871c6b1f550"
      },
      "outputs": [
        {
          "data": {
            "text/plain": [
              "((10094, 102), (10094,))"
            ]
          },
          "execution_count": 81,
          "metadata": {},
          "output_type": "execute_result"
        }
      ],
      "source": [
        "# Cantidad de datos de entrenamiento \n",
        "X_train.shape, y_train.shape"
      ]
    },
    {
      "cell_type": "markdown",
      "id": "c31c24f1",
      "metadata": {
        "id": "c31c24f1"
      },
      "source": [
        "# Cross Validation"
      ]
    },
    {
      "cell_type": "code",
      "execution_count": null,
      "id": "21616db5",
      "metadata": {
        "id": "21616db5"
      },
      "outputs": [],
      "source": [
        "from sklearn.model_selection import GridSearchCV\n",
        "\n",
        "parameters = {  'objective':['binary:logistic'],\n",
        "                'max_depth'  :    list(range(6, 8)), \n",
        "                'subsample': [0.6, 0.8, 1.0],\n",
        "                'learning_rate'  : [0.3, 0.1, 0.03], \n",
        "                'gamma': [0.5, 1, 1.5, 2, 5],\n",
        "                'colsample_bytree': [0.6, 0.8, 1.0],\n",
        "                'n_estimators'  : list(range(80,90,4))}"
      ]
    },
    {
      "cell_type": "code",
      "execution_count": null,
      "id": "17aa7611",
      "metadata": {
        "id": "17aa7611"
      },
      "outputs": [],
      "source": [
        "# Definiendo el modelo\n",
        "model_xgb = XGBClassifier(random_state = 100)"
      ]
    },
    {
      "cell_type": "code",
      "execution_count": null,
      "id": "e799e9a3",
      "metadata": {
        "colab": {
          "base_uri": "https://localhost:8080/"
        },
        "id": "e799e9a3",
        "outputId": "021a13d9-8071-4a26-dc9f-80d39a78ec0c"
      },
      "outputs": [
        {
          "name": "stdout",
          "output_type": "stream",
          "text": [
            "El tiempo de ejecución es:  180.01827033758164 minutos\n"
          ]
        }
      ],
      "source": [
        "# Ejecutando Grid Search\n",
        "import time\n",
        "inicio = time.time()\n",
        "\n",
        "GridSearch = GridSearchCV(model_xgb, parameters,\n",
        "                          cv = 5,\n",
        "                          n_jobs = -1,\n",
        "                          scoring  = 'accuracy',\n",
        "                          refit = True,\n",
        "                          return_train_score = True)\n",
        "\n",
        "GridSearch.fit(X_train, y_train.ravel())\n",
        "\n",
        "fin = time.time()\n",
        "print('El tiempo de ejecución es: ', (fin-inicio)/60, 'minutos') "
      ]
    },
    {
      "cell_type": "code",
      "execution_count": null,
      "id": "1751baed",
      "metadata": {
        "colab": {
          "base_uri": "https://localhost:8080/"
        },
        "id": "1751baed",
        "outputId": "0543b9d1-cbd6-466d-9a1b-34add3ded8fb"
      },
      "outputs": [
        {
          "name": "stdout",
          "output_type": "stream",
          "text": [
            "Los mejores parámetros son : {'colsample_bytree': 1.0, 'gamma': 0.5, 'learning_rate': 0.3, 'max_depth': 7, 'n_estimators': 84, 'objective': 'binary:logistic', 'subsample': 0.8}\n",
            "Con el mejor accuracy :  0.787597359279118\n"
          ]
        }
      ],
      "source": [
        "# Mejores parámetros:\n",
        "print('Los mejores parámetros son :', GridSearch.best_params_)\n",
        "print('Con el mejor accuracy : ', GridSearch.best_score_)"
      ]
    },
    {
      "cell_type": "markdown",
      "id": "3ea426f9",
      "metadata": {
        "id": "3ea426f9"
      },
      "source": [
        "# Entrenando el modelo XG-BOOST"
      ]
    },
    {
      "cell_type": "code",
      "execution_count": null,
      "id": "7076d77b",
      "metadata": {
        "colab": {
          "base_uri": "https://localhost:8080/"
        },
        "id": "7076d77b",
        "outputId": "3d9eebd3-48ab-473e-a945-ebdfe6986148"
      },
      "outputs": [
        {
          "data": {
            "text/plain": [
              "XGBClassifier(criterion='accuracy', gamma=0.5, learning_rate=0.05, max_depth=6,\n",
              "              min_child_weight=5, n_estimators=84, n_jobs=-1, random_state=100,\n",
              "              subsample=0.9)"
            ]
          },
          "execution_count": 235,
          "metadata": {},
          "output_type": "execute_result"
        }
      ],
      "source": [
        "from xgboost import XGBClassifier\n",
        "\n",
        "xgbc=XGBClassifier( \n",
        "                    subsample = 0.9,\n",
        "                    min_child_weight = 5,\n",
        "                    n_estimators = 84,\n",
        "                    colsample_bytree = 1,\n",
        "                    gamma = 0.5,\n",
        "                    max_depth = 6,\n",
        "                    learning_rate = 0.05,\n",
        "                    criterion = 'accuracy',\n",
        "                    objective = 'binary:logistic', \n",
        "                    n_jobs = -1,\n",
        "                    random_state = 100)\n",
        " \n",
        "xgbc.fit(X_train, y_train)"
      ]
    },
    {
      "cell_type": "code",
      "execution_count": null,
      "id": "dce9c665",
      "metadata": {
        "id": "dce9c665"
      },
      "outputs": [],
      "source": [
        "# Entrenando el algoritmo para validar\n",
        "y_predict_train = xgbc.predict(X_train)   # Predicción sobre el train\n",
        "y_predict_test  = xgbc.predict(X_test)    # Predicción sobre el test "
      ]
    },
    {
      "cell_type": "code",
      "execution_count": null,
      "id": "0d9498f2",
      "metadata": {
        "colab": {
          "base_uri": "https://localhost:8080/"
        },
        "id": "0d9498f2",
        "outputId": "49bf0467-c5e7-48e8-f608-a69959de4218"
      },
      "outputs": [
        {
          "name": "stdout",
          "output_type": "stream",
          "text": [
            "Accuracy Train : 0.7965127798692292\n",
            "Accuracy Test  : 0.7630605640314378\n"
          ]
        }
      ],
      "source": [
        "from sklearn.metrics import accuracy_score\n",
        "# Calculando el Accurary \n",
        "print('Accuracy Train :', accuracy_score(y_train, y_predict_train))\n",
        "print('Accuracy Test  :', accuracy_score(y_test, y_predict_test))"
      ]
    },
    {
      "cell_type": "code",
      "execution_count": null,
      "id": "585e901c",
      "metadata": {
        "colab": {
          "base_uri": "https://localhost:8080/"
        },
        "id": "585e901c",
        "outputId": "21a8df6b-f9ce-4c62-f065-0de3506efe57"
      },
      "outputs": [
        {
          "name": "stdout",
          "output_type": "stream",
          "text": [
            "Precisión train : 0.7901880938530154\n",
            "Precisión test  : 0.7595802919708029\n"
          ]
        }
      ],
      "source": [
        "# Calculando la precisión \n",
        "from sklearn.metrics import precision_score\n",
        "print('Precisión train :', precision_score(y_train, y_predict_train))\n",
        "print('Precisión test  :', precision_score(y_test, y_predict_test))"
      ]
    },
    {
      "cell_type": "code",
      "execution_count": null,
      "id": "9e695619",
      "metadata": {
        "colab": {
          "base_uri": "https://localhost:8080/"
        },
        "id": "9e695619",
        "outputId": "6d72e0b6-dc38-46a0-b077-c72ded798999"
      },
      "outputs": [
        {
          "name": "stdout",
          "output_type": "stream",
          "text": [
            "Recall train : 0.8074103427778878\n",
            "Recall test  : 0.7697642163661581\n"
          ]
        }
      ],
      "source": [
        "# Calculando el recall\n",
        "from sklearn.metrics import recall_score\n",
        "print('Recall train :', recall_score(y_train, y_predict_train))\n",
        "print('Recall test  :', recall_score(y_test, y_predict_test))"
      ]
    },
    {
      "cell_type": "markdown",
      "id": "dabb865e",
      "metadata": {
        "id": "dabb865e"
      },
      "source": [
        "Cuadro Comparativo para train:"
      ]
    },
    {
      "cell_type": "code",
      "execution_count": null,
      "id": "9ba97876",
      "metadata": {
        "colab": {
          "base_uri": "https://localhost:8080/"
        },
        "id": "9ba97876",
        "outputId": "4c9189a0-1aa2-41c5-8f41-ebd6e4583aa7"
      },
      "outputs": [
        {
          "name": "stdout",
          "output_type": "stream",
          "text": [
            "              precision    recall  f1-score   support\n",
            "\n",
            "           0       0.80      0.79      0.79      5047\n",
            "           1       0.79      0.81      0.80      5047\n",
            "\n",
            "    accuracy                           0.80     10094\n",
            "   macro avg       0.80      0.80      0.80     10094\n",
            "weighted avg       0.80      0.80      0.80     10094\n",
            "\n"
          ]
        }
      ],
      "source": [
        "from sklearn.metrics import classification_report\n",
        "report_train = classification_report(y_train, y_predict_train)\n",
        "print(report_train) "
      ]
    },
    {
      "cell_type": "markdown",
      "id": "de3aed0e",
      "metadata": {
        "id": "de3aed0e"
      },
      "source": [
        "Cuadro Comparativo para test:"
      ]
    },
    {
      "cell_type": "code",
      "execution_count": null,
      "id": "ac9f9a5a",
      "metadata": {
        "colab": {
          "base_uri": "https://localhost:8080/"
        },
        "id": "ac9f9a5a",
        "outputId": "860dedd1-9139-42a0-82e2-23cb574eb495"
      },
      "outputs": [
        {
          "name": "stdout",
          "output_type": "stream",
          "text": [
            "              precision    recall  f1-score   support\n",
            "\n",
            "           0       0.77      0.76      0.76      2163\n",
            "           1       0.76      0.77      0.76      2163\n",
            "\n",
            "    accuracy                           0.76      4326\n",
            "   macro avg       0.76      0.76      0.76      4326\n",
            "weighted avg       0.76      0.76      0.76      4326\n",
            "\n"
          ]
        }
      ],
      "source": [
        "report_test = classification_report(y_test, y_predict_test)\n",
        "print(report_test)"
      ]
    },
    {
      "cell_type": "code",
      "execution_count": null,
      "id": "fb46dbfa",
      "metadata": {
        "colab": {
          "base_uri": "https://localhost:8080/"
        },
        "id": "fb46dbfa",
        "outputId": "c1ab0025-7f21-45dd-b2fe-b2aeecb0477e"
      },
      "outputs": [
        {
          "name": "stdout",
          "output_type": "stream",
          "text": [
            "Matriz de Confusión train:\n"
          ]
        },
        {
          "data": {
            "text/plain": [
              "array([[3965, 1082],\n",
              "       [ 972, 4075]])"
            ]
          },
          "execution_count": 242,
          "metadata": {},
          "output_type": "execute_result"
        }
      ],
      "source": [
        "from sklearn.metrics import confusion_matrix\n",
        "# Matriz de confusión train \n",
        "m_confusion_train = confusion_matrix(y_train, y_predict_train)\n",
        "print('Matriz de Confusión train:')\n",
        "m_confusion_train"
      ]
    },
    {
      "cell_type": "code",
      "execution_count": null,
      "id": "67d22730",
      "metadata": {
        "colab": {
          "base_uri": "https://localhost:8080/",
          "height": 378
        },
        "id": "67d22730",
        "outputId": "1d53f321-92bc-40ea-f697-39073c7abf80"
      },
      "outputs": [
        {
          "data": {
            "text/plain": [
              "[Text(0, 0.5, 'Si producto'), Text(0, 1.5, 'No producto')]"
            ]
          },
          "execution_count": 243,
          "metadata": {},
          "output_type": "execute_result"
        },
        {
          "data": {
            "image/png": "[encoded data removed]",
            "text/plain": [
              "<Figure size 432x360 with 2 Axes>"
            ]
          },
          "metadata": {
            "needs_background": "light"
          },
          "output_type": "display_data"
        }
      ],
      "source": [
        "plt.figure(figsize=(6,5)) \n",
        "ax= plt.subplot()\n",
        "sns.heatmap(m_confusion_train, annot=True, ax = ax, cmap=sns.color_palette(\"rocket_r\", as_cmap=True), fmt='g')\n",
        "ax.set_xlabel('Predicción', fontweight='bold', fontsize=16)\n",
        "ax.set_ylabel('Real', fontsize=16, fontweight='bold')\n",
        "ax.set_title('Matriz de Confusión', fontsize=16, fontweight='bold')\n",
        "ax.xaxis.set_ticklabels(['Si producto', 'No producto'], fontsize=14)\n",
        "ax.yaxis.set_ticklabels(['Si producto', 'No producto'], fontsize=14)"
      ]
    },
    {
      "cell_type": "code",
      "execution_count": null,
      "id": "5e7c14c1",
      "metadata": {
        "colab": {
          "base_uri": "https://localhost:8080/"
        },
        "id": "5e7c14c1",
        "outputId": "8ff30ca6-fd78-42c3-f086-4abe9a75b55f"
      },
      "outputs": [
        {
          "name": "stdout",
          "output_type": "stream",
          "text": [
            "Matriz de Confusión test:\n"
          ]
        },
        {
          "data": {
            "text/plain": [
              "array([[1636,  527],\n",
              "       [ 498, 1665]])"
            ]
          },
          "execution_count": 244,
          "metadata": {},
          "output_type": "execute_result"
        }
      ],
      "source": [
        "# Matriz de confusión test \n",
        "m_confusion_test = confusion_matrix(y_test, y_predict_test)\n",
        "print('Matriz de Confusión test:')\n",
        "m_confusion_test"
      ]
    },
    {
      "cell_type": "code",
      "execution_count": null,
      "id": "1daf533e",
      "metadata": {
        "colab": {
          "base_uri": "https://localhost:8080/",
          "height": 378
        },
        "id": "1daf533e",
        "outputId": "797feaa5-da07-4bf4-b079-fa6d48f9b645"
      },
      "outputs": [
        {
          "data": {
            "text/plain": [
              "[Text(0, 0.5, 'Si producto'), Text(0, 1.5, 'No producto')]"
            ]
          },
          "execution_count": 245,
          "metadata": {},
          "output_type": "execute_result"
        },
        {
          "data": {
            "image/png": "[encoded data removed]",
            "text/plain": [
              "<Figure size 432x360 with 2 Axes>"
            ]
          },
          "metadata": {
            "needs_background": "light"
          },
          "output_type": "display_data"
        }
      ],
      "source": [
        "plt.figure(figsize=(6,5)) \n",
        "ax= plt.subplot()\n",
        "sns.heatmap(m_confusion_test, annot=True, ax = ax, cmap=sns.color_palette(\"rocket_r\", as_cmap=True), fmt='g')\n",
        "ax.set_xlabel('Predicción', fontweight='bold', fontsize=16)\n",
        "ax.set_ylabel('Real', fontsize=16, fontweight='bold')\n",
        "ax.set_title('Matriz de Confusión', fontsize=16, fontweight='bold')\n",
        "ax.xaxis.set_ticklabels(['Si producto', 'No producto'], fontsize=14)\n",
        "ax.yaxis.set_ticklabels(['Si producto', 'No producto'], fontsize=14)"
      ]
    },
    {
      "cell_type": "code",
      "execution_count": null,
      "id": "80257c95",
      "metadata": {
        "colab": {
          "base_uri": "https://localhost:8080/",
          "height": 301
        },
        "id": "80257c95",
        "outputId": "2797461c-cac5-449b-ad98-5ffbd5721f25"
      },
      "outputs": [
        {
          "data": {
            "image/png": "[encoded data removed]",
            "text/plain": [
              "<Figure size 432x288 with 1 Axes>"
            ]
          },
          "metadata": {
            "needs_background": "light"
          },
          "output_type": "display_data"
        }
      ],
      "source": [
        "from sklearn.metrics import roc_curve\n",
        "from sklearn.metrics import roc_auc_score\n",
        "\n",
        "auc = roc_auc_score(y_test, y_predict_test)\n",
        "fpr, tpr, threshold = roc_curve(y_test, y_predict_test)\n",
        "plt.figure(figsize = (6,4))\n",
        "plt.plot(fpr, tpr, color = 'green', label = 'auc (area = %0.4f)' % auc) \n",
        "plt.plot([0, 1], [0, 1], color='darkblue', linestyle='--')\n",
        "plt.title('Curva ROC', fontsize=15)\n",
        "plt.xlabel('False Positive Rate', fontsize=14)\n",
        "plt.ylabel('True Positive Rate', fontsize=14)\n",
        "plt.legend()\n",
        "plt.show()"
      ]
    },
    {
      "cell_type": "code",
      "execution_count": null,
      "id": "d98c1de6",
      "metadata": {
        "colab": {
          "base_uri": "https://localhost:8080/",
          "height": 357
        },
        "id": "d98c1de6",
        "outputId": "a946a2cd-a9d4-4ed7-a26e-143531f831e0"
      },
      "outputs": [
        {
          "data": {
            "image/png": "[encoded data removed]",
            "text/plain": [
              "<Figure size 504x360 with 1 Axes>"
            ]
          },
          "metadata": {
            "needs_background": "light"
          },
          "output_type": "display_data"
        }
      ],
      "source": [
        "# Gráfico de ajuste\n",
        "train_predict = []\n",
        "test_predict  = []\n",
        "max_deep_list = list(range(2, 15))\n",
        "\n",
        "for deep in max_deep_list:\n",
        "    arbol = XGBClassifier(n_estimators = 84,\n",
        "                                   max_depth = deep, \n",
        "                                   max_features = 5,\n",
        "                                   criterion = 'gini',\n",
        "                                   bootstrap = True,       # muestreo aleatorio\n",
        "                                   oob_score = True,\n",
        "                                   n_jobs = -1,\n",
        "                                   random_state = 100)\n",
        "    \n",
        "    arbol.fit(X_train, y_predict_train)\n",
        "    train_predict.append(arbol.score(X_train, y_predict_train))\n",
        "    test_predict.append(arbol.score(X_test,  y_predict_test))\n",
        "\n",
        "# Gráfica de los resultados\n",
        "plt.figure(figsize = (7,5))\n",
        "plt.plot(max_deep_list, train_predict, color = 'red', label ='entrenamiento')\n",
        "plt.plot(max_deep_list, test_predict, color = 'blue', label ='evaluacion')\n",
        "plt.title('Gráfico de ajuste', fontsize=15)\n",
        "plt.ylabel('Precisión', fontsize=15)\n",
        "plt.xlabel('Profundidad', fontsize=14)\n",
        "plt.legend()\n",
        "plt.show()"
      ]
    }
  ],
  "metadata": {
    "colab": {
      "collapsed_sections": [],
      "name": "Proyecto G - XGB.ipynb",
      "provenance": []
    },
    "kernelspec": {
      "display_name": "Python 3.8.8 ('vehicle_env': venv)",
      "language": "python",
      "name": "python3"
    },
    "language_info": {
      "codemirror_mode": {
        "name": "ipython",
        "version": 3
      },
      "file_extension": ".py",
      "mimetype": "text/x-python",
      "name": "python",
      "nbconvert_exporter": "python",
      "pygments_lexer": "ipython3",
      "version": "3.8.8"
    },
    "vscode": {
      "interpreter": {
        "hash": "96549bde93460f430b79bf9389bb2bf98c4c0d1c4881f14d52c9fb137e88a977"
      }
    }
  },
  "nbformat": 4,
  "nbformat_minor": 5
}
